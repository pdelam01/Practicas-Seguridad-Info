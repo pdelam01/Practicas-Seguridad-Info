{
 "cells": [
  {
   "cell_type": "code",
   "execution_count": 1,
   "metadata": {},
   "outputs": [],
   "source": [
    "#PRÁCTICA 5  (Curso 2020-2021)\n",
    "#Simulación de un sistema criptográfico de clave privada: Sustitución Monoalfabética"
   ]
  },
  {
   "cell_type": "code",
   "execution_count": 1,
   "metadata": {},
   "outputs": [
    {
     "name": "stdout",
     "output_type": "stream",
     "text": [
      "Las matemáticas son como una CORRIENTE de agua.\n",
      "Existen diversas teorías complicadas, es cierto, pero\n",
      "la LÓGICA básica es muy sencilla. De igual modo\n",
      "que el AGUA fluye desde un lugar elevado hacia\n",
      "otro más bajo tomando la distancia más CORTA,\n",
      "sólo hay una corriente matemática.\n",
      "(1Q84, Haruki Murakami, Kioto 1949)\n"
     ]
    }
   ],
   "source": [
    "from sympy import mod_inverse\n",
    "\n",
    "alf=\"aábcdeéfghiíjklmnñoópqrstuúvwxyzAÁBCDEÉFGHIÍJKLMNÑOÓPQRSTUÚVWXYZ0123456789 ,.:-()\"\n",
    "msj_cifrado=\"ÁeóÍ ebá 5b-CeóÍósUÍCs sÍ2UeÍÚLVVpt)utÍoáÍez2ehÍÍíN1mX-ñjA1E-OmimjX-wOyimj3wPFé13iAimÚj-mj31-OXwÚjF-OwjjbmYf2áUspY7ÍíPomY íYy3KYí ÚoPbbmEYÓ YP:3mbYyÁLÁYY4v6z6(znmsnzh(v:6zW6fW6zvoz(vóp-z6(6MpWÉzxpOFpzzÍ.íÍa3ñcahuiÍa.Í3uV Ía,ua úc.uVáúua3ñca5y(Zj9aa)r7NOFyWOwóyOÁNuukYóRYOKyRYKdRkÁy(OOIiPúGTókCF5yaó95FCyCsaTó)aQAQóiZGZ(\"\n",
    "\n",
    "clave_cif=[64,5]\n",
    "z=len(alf)\n",
    "\n",
    "def obtenerClaveDescifrado(clave_cif,ite,z):\n",
    "    aux=[]\n",
    "    a=mod_inverse(clave_cif[0]**ite,z)\n",
    "    b=(-clave_cif[1]*ite*a)%z\n",
    "    aux = [a,b]\n",
    "    return aux\n",
    "\n",
    "def obtenerPosLetras(pos,alf):\n",
    "    listaNum = []\n",
    "    listaNum.append(alf.index(pos))\n",
    "    return listaNum\n",
    "\n",
    "def obtenerLetrasPos(pos,alf):\n",
    "    listaLetras = \"\"\n",
    "    listaLetras+=(alf[pos])\n",
    "    return listaLetras\n",
    "    \n",
    "def obtenerSegPosLetras(pos,clave):\n",
    "    posAux=0\n",
    "    posAux = (pos*clave[0]+clave[1])%z\n",
    "    return posAux\n",
    "\n",
    "def esSalto(msj):\n",
    "    long = len(msj)\n",
    "    if msj[long-1]==\" \" and msj[long-2]==\" \":\n",
    "        return True\n",
    "    return False\n",
    "\n",
    "def saltoLinea(msj):\n",
    "    long = len(msj)-2\n",
    "    aux = msj[0:long]\n",
    "    aux += \"\\n\"\n",
    "    return aux\n",
    "\n",
    "def obtenerMensajeFinal():\n",
    "    posInicial=[]\n",
    "    posFinal=[]\n",
    "    listaLetras=\"\"\n",
    "    ite = 1\n",
    "    \n",
    "    for i in range(len(msj_cifrado)):\n",
    "        posInicial += obtenerPosLetras(msj_cifrado[i],alf)\n",
    "    \n",
    "    for j in range(len(posInicial)):\n",
    "        posFinal.append(obtenerSegPosLetras(posInicial[j],obtenerClaveDescifrado(clave_cif,ite,z)))\n",
    "        listaLetras += obtenerLetrasPos(posFinal[j],alf)\n",
    "        if esSalto(listaLetras):\n",
    "            ite+=1;\n",
    "            listaLetras = saltoLinea(listaLetras)\n",
    "            \n",
    "    return listaLetras\n",
    "\n",
    "print(obtenerMensajeFinal())"
   ]
  },
  {
   "cell_type": "code",
   "execution_count": null,
   "metadata": {},
   "outputs": [],
   "source": []
  }
 ],
 "metadata": {
  "kernelspec": {
   "display_name": "Python 3",
   "language": "python",
   "name": "python3"
  },
  "language_info": {
   "codemirror_mode": {
    "name": "ipython",
    "version": 3
   },
   "file_extension": ".py",
   "mimetype": "text/x-python",
   "name": "python",
   "nbconvert_exporter": "python",
   "pygments_lexer": "ipython3",
   "version": "3.8.5"
  }
 },
 "nbformat": 4,
 "nbformat_minor": 4
}
