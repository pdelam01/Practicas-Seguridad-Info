{
 "cells": [
  {
   "cell_type": "code",
   "execution_count": 7,
   "metadata": {},
   "outputs": [],
   "source": [
    "#Practicas SI\n",
    "\n",
    "#PRACTICA 1: ENTROPIA DE UNA FUENTE DE TEXTO"
   ]
  },
  {
   "cell_type": "code",
   "execution_count": 1,
   "metadata": {},
   "outputs": [],
   "source": [
    "#Importamos libreria de matemáticas\n",
    "\n",
    "\n",
    "from collections import Counter\n",
    "import operator\n",
    "import numpy as np"
   ]
  },
  {
   "cell_type": "code",
   "execution_count": 2,
   "metadata": {},
   "outputs": [
    {
     "name": "stdout",
     "output_type": "stream",
     "text": [
      "La noche cae, brumosa ya y morada.  Vagas claridades malvas y verdes perduran tras la torre de la iglesia.  El camino sube, lleno de sombras, de campanillas, de fragancia de hierba,  de canciones, de cansancio y de anhelo.\n"
     ]
    }
   ],
   "source": [
    "#leemos el archivo datos_1.txt\n",
    "\n",
    "file = open ('datos_1.txt','r')\n",
    "mensaje = \"La noche cae, brumosa ya y morada.  Vagas claridades malvas y verdes perduran tras la torre de la iglesia.  El camino sube, lleno de sombras, de campanillas, de fragancia de hierba,  de canciones, de cansancio y de anhelo.\"\n",
    "print(mensaje)\n",
    "#mensaje=file.read()\n",
    "\n",
    "file.close()"
   ]
  },
  {
   "cell_type": "code",
   "execution_count": 14,
   "metadata": {},
   "outputs": [
    {
     "name": "stdout",
     "output_type": "stream",
     "text": [
      "Longitud total del texto: 222\n",
      "\n",
      "Counter({' ': 40, 'a': 30, 'e': 21, 's': 13, 'd': 13, 'r': 12, 'n': 11, 'l': 11, 'o': 10, 'c': 10, 'i': 9, ',': 6, 'm': 6, 'b': 4, 'y': 4, 'h': 3, 'u': 3, '.': 3, 'g': 3, 'v': 2, 'p': 2, 't': 2, 'L': 1, 'V': 1, 'E': 1, 'f': 1})\n",
      "\n",
      "--- PROBLEMA 1 ---\n",
      "La frequencia absoluta del caracter 'd' es:  13\n",
      "La frequencia relativa o probabilidad del caracter 'd' es:  0.059\n",
      "\n",
      "--- PROBLEMA 2 ---\n",
      "La entropía de la fuente de texto es:  4.035\n",
      "La entropía de la fuente de texto es:  4.035 (Calculado con Frecuencia Absoluta)\n",
      "\n",
      "--- PROBLEMA 3 ---\n",
      "Símbolo:   | Frecuencia Absoluta: 40 | Probabilidad: 0.180\n",
      "Símbolo: a | Frecuencia Absoluta: 30 | Probabilidad: 0.135\n",
      "Símbolo: e | Frecuencia Absoluta: 21 | Probabilidad: 0.095\n",
      "Símbolo: s | Frecuencia Absoluta: 13 | Probabilidad: 0.059\n"
     ]
    }
   ],
   "source": [
    "#Contamos las veces se repiten cada caracter\n",
    "longitud=len(mensaje)\n",
    "print(\"Longitud total del texto:\",longitud)\n",
    "print()\n",
    "\n",
    "#Obtenemos los pares clave (caracter) y valor (freq abs)\n",
    "contador = Counter(mensaje)\n",
    "print(contador)\n",
    "\n",
    "#--------PROBLEMA 1: Dado un caracter (d), calcular su frequencia relativa--------\n",
    "print(\"\\n--- PROBLEMA 1 ---\")\n",
    "#Primero calculamos la frequencia absoluta \n",
    "def metodoAbs(caracter):\n",
    "    for clave, valor in contador.items():\n",
    "        if clave == caracter:\n",
    "            freqAbs = valor\n",
    "    return freqAbs\n",
    "\n",
    "freqAbs=metodoAbs(\"d\")\n",
    "print(\"La frequencia absoluta del caracter 'd' es: \",freqAbs)\n",
    "freqRel=freqAbs/longitud\n",
    "print(\"La frequencia relativa o probabilidad del caracter 'd' es: \",\"{0:.3f}\".format(freqRel))\n",
    "\n",
    "\n",
    "\n",
    "#--------PROBLEMA 2: Calcular la entropía en bits de la fuente de información--------\n",
    "print(\"\\n--- PROBLEMA 2 ---\")\n",
    "entropia = 0\n",
    "for clave , valor in contador.items():\n",
    "    prob = valor/longitud\n",
    "    entropia += prob*np.log2(1/prob)\n",
    "    #print(valor)\n",
    "print(\"La entropía de la fuente de texto es: \",\"{0:.3f}\".format(entropia)) \n",
    "\n",
    "entropia2=0\n",
    "for clave , valor in contador.items():\n",
    "    entropia2 += valor*np.log2(valor)\n",
    "entropia2 = np.log2(longitud)-(1/longitud)*entropia2\n",
    "print(\"La entropía de la fuente de texto es: \",\"{0:.3f}\".format(entropia2),\"(Calculado con Frecuencia Absoluta)\\n\") \n",
    "\n",
    "\n",
    "#--------PROBLEMA 3: Ordenar la fuente de informacion, sacar los 4 primeros de mayor probabilidad---------\n",
    "print(\"--- PROBLEMA 3 ---\")\n",
    "\n",
    "#Ordenamos contador, por clave o por valor. Elegimos por valor (por clave seria solo sorted() )\n",
    "orden = sorted(contador.items(), key=operator.itemgetter(1), reverse=True)\n",
    "\n",
    "breaker = 0\n",
    "for clave , valor in orden:\n",
    "    prob = valor/longitud\n",
    "    print(\"Símbolo:\",clave,\"| Frecuencia Absoluta:\",valor,\"| Probabilidad:\", \"{0:.3f}\".format(prob))\n",
    "    breaker += 1\n",
    "    if breaker == 4:\n",
    "        break"
   ]
  },
  {
   "cell_type": "code",
   "execution_count": null,
   "metadata": {},
   "outputs": [],
   "source": []
  },
  {
   "cell_type": "code",
   "execution_count": null,
   "metadata": {},
   "outputs": [],
   "source": []
  }
 ],
 "metadata": {
  "kernelspec": {
   "display_name": "Python 3",
   "language": "python",
   "name": "python3"
  },
  "language_info": {
   "codemirror_mode": {
    "name": "ipython",
    "version": 3
   },
   "file_extension": ".py",
   "mimetype": "text/x-python",
   "name": "python",
   "nbconvert_exporter": "python",
   "pygments_lexer": "ipython3",
   "version": "3.8.5"
  }
 },
 "nbformat": 4,
 "nbformat_minor": 4
}
